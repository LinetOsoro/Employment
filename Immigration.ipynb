{
 "cells": [
  {
   "cell_type": "code",
   "execution_count": 1,
   "id": "9d669518",
   "metadata": {},
   "outputs": [],
   "source": [
    "%matplotlib notebook\n",
    "\n",
    "# Suppress all warnings\n",
    "import warnings\n",
    "warnings.filterwarnings(\"ignore\")"
   ]
  },
  {
   "cell_type": "code",
   "execution_count": 2,
   "id": "924833dc",
   "metadata": {},
   "outputs": [],
   "source": [
    "# Import Dependencies\n",
    "import os\n",
    "import pandas as pd\n",
    "import numpy as np\n",
    "import scipy.stats as st\n",
    "import matplotlib.pyplot as plt\n",
    "import random"
   ]
  },
  {
   "cell_type": "code",
   "execution_count": 22,
   "id": "5e270428",
   "metadata": {},
   "outputs": [
    {
     "name": "stdout",
     "output_type": "stream",
     "text": [
      "(42, 6)\n"
     ]
    },
    {
     "data": {
      "text/html": [
       "<div>\n",
       "<style scoped>\n",
       "    .dataframe tbody tr th:only-of-type {\n",
       "        vertical-align: middle;\n",
       "    }\n",
       "\n",
       "    .dataframe tbody tr th {\n",
       "        vertical-align: top;\n",
       "    }\n",
       "\n",
       "    .dataframe thead th {\n",
       "        text-align: right;\n",
       "    }\n",
       "</style>\n",
       "<table border=\"1\" class=\"dataframe\">\n",
       "  <thead>\n",
       "    <tr style=\"text-align: right;\">\n",
       "      <th></th>\n",
       "      <th>Year</th>\n",
       "      <th>Immigrants Obtaining Lawful Permanent Resident Status</th>\n",
       "      <th>Refugee Arrivals</th>\n",
       "      <th>Noncitizen Apprehensions</th>\n",
       "      <th>Noncitizen Removals</th>\n",
       "      <th>Noncitizen Returns</th>\n",
       "    </tr>\n",
       "  </thead>\n",
       "  <tbody>\n",
       "    <tr>\n",
       "      <th>0</th>\n",
       "      <td>1980</td>\n",
       "      <td>524,295</td>\n",
       "      <td>207,116</td>\n",
       "      <td>910,361</td>\n",
       "      <td>18,013</td>\n",
       "      <td>719,211</td>\n",
       "    </tr>\n",
       "    <tr>\n",
       "      <th>1</th>\n",
       "      <td>1981</td>\n",
       "      <td>595,014</td>\n",
       "      <td>159,252</td>\n",
       "      <td>975,780</td>\n",
       "      <td>17,379</td>\n",
       "      <td>823,875</td>\n",
       "    </tr>\n",
       "    <tr>\n",
       "      <th>2</th>\n",
       "      <td>1982</td>\n",
       "      <td>533,624</td>\n",
       "      <td>98,096</td>\n",
       "      <td>970,246</td>\n",
       "      <td>15,216</td>\n",
       "      <td>812,572</td>\n",
       "    </tr>\n",
       "    <tr>\n",
       "      <th>3</th>\n",
       "      <td>1983</td>\n",
       "      <td>550,052</td>\n",
       "      <td>61,218</td>\n",
       "      <td>1,251,357</td>\n",
       "      <td>19,211</td>\n",
       "      <td>931,600</td>\n",
       "    </tr>\n",
       "    <tr>\n",
       "      <th>4</th>\n",
       "      <td>1984</td>\n",
       "      <td>541,811</td>\n",
       "      <td>70,393</td>\n",
       "      <td>1,246,981</td>\n",
       "      <td>18,696</td>\n",
       "      <td>909,833</td>\n",
       "    </tr>\n",
       "  </tbody>\n",
       "</table>\n",
       "</div>"
      ],
      "text/plain": [
       "   Year Immigrants Obtaining Lawful Permanent Resident Status  \\\n",
       "0  1980                                           524,295       \n",
       "1  1981                                           595,014       \n",
       "2  1982                                           533,624       \n",
       "3  1983                                           550,052       \n",
       "4  1984                                           541,811       \n",
       "\n",
       "  Refugee Arrivals Noncitizen Apprehensions Noncitizen Removals  \\\n",
       "0         207,116                   910,361              18,013   \n",
       "1         159,252                   975,780              17,379   \n",
       "2          98,096                   970,246              15,216   \n",
       "3          61,218                 1,251,357              19,211   \n",
       "4          70,393                 1,246,981              18,696   \n",
       "\n",
       "  Noncitizen Returns  \n",
       "0            719,211  \n",
       "1            823,875  \n",
       "2            812,572  \n",
       "3            931,600  \n",
       "4            909,833  "
      ]
     },
     "execution_count": 22,
     "metadata": {},
     "output_type": "execute_result"
    }
   ],
   "source": [
    "# Get file path \n",
    "# file_path = \"..Immigration\\immigration statistics.csv\"\n",
    "file_path = \"C:\\\\Users\\\\linet\\\\OneDrive\\\\Desktop\\\\Immigration\\\\Immigration\\\\immigration statistics.csv\"\n",
    "# Load CSV data into a DataFrame\n",
    "immigration = pd.read_csv(file_path)\n",
    "print(immigration.shape)\n",
    "immigration.head()"
   ]
  },
  {
   "cell_type": "code",
   "execution_count": 28,
   "id": "3ec7cb47",
   "metadata": {},
   "outputs": [
    {
     "data": {
      "text/plain": [
       "Year\n",
       "1980     207,116 \n",
       "1981     159,252 \n",
       "1982      98,096 \n",
       "1983      61,218 \n",
       "1984      70,393 \n",
       "1985      67,704 \n",
       "1986      62,146 \n",
       "1987      64,528 \n",
       "1988      76,483 \n",
       "1989     107,070 \n",
       "1990     122,066 \n",
       "1991     113,389 \n",
       "1992     115,548 \n",
       "1993     114,181 \n",
       "1994     111,680 \n",
       "1995      98,973 \n",
       "1996      75,421 \n",
       "1997      69,653 \n",
       "1998      76,712 \n",
       "1999      85,285 \n",
       "2000       72,165\n",
       "2001       68,920\n",
       "2002       26,785\n",
       "2003       28,286\n",
       "2004       52,840\n",
       "2005       53,738\n",
       "2006       41,094\n",
       "2007       48,218\n",
       "2008       60,107\n",
       "2009       74,602\n",
       "2010       73,293\n",
       "2011       56,384\n",
       "2012       58,179\n",
       "2013       69,909\n",
       "2014       69,975\n",
       "2015       69,920\n",
       "2016       84,989\n",
       "2017       53,691\n",
       "2018       22,405\n",
       "2019       29,916\n",
       "2020       11,840\n",
       "2021       11,454\n",
       "Name: Refugee Arrivals, dtype: object"
      ]
     },
     "execution_count": 28,
     "metadata": {},
     "output_type": "execute_result"
    }
   ],
   "source": [
    "# Group by 'Year' and sum 'Refugee Arrivals'\n",
    "yearly_refugee_arrivals = immigration.groupby('Year')['Refugee Arrivals'].sum()\n",
    "yearly_refugee_arrivals"
   ]
  },
  {
   "cell_type": "code",
   "execution_count": 29,
   "id": "5041fdbb",
   "metadata": {},
   "outputs": [
    {
     "data": {
      "text/plain": [
       "1982"
      ]
     },
     "execution_count": 29,
     "metadata": {},
     "output_type": "execute_result"
    }
   ],
   "source": [
    "# Find the year with the maximum refugee arrivals\n",
    "year_with_most_arrivals = yearly_refugee_arrivals.idxmax()\n",
    "year_with_most_arrivals"
   ]
  },
  {
   "cell_type": "code",
   "execution_count": 31,
   "id": "05f8efd7",
   "metadata": {},
   "outputs": [
    {
     "data": {
      "text/plain": [
       "1994"
      ]
     },
     "execution_count": 31,
     "metadata": {},
     "output_type": "execute_result"
    }
   ],
   "source": [
    "year_with_least_arrivals = yearly_refugee_arrivals.idxmin()\n",
    "year_with_least_arrivals"
   ]
  },
  {
   "cell_type": "code",
   "execution_count": 18,
   "id": "95f53b95",
   "metadata": {},
   "outputs": [
    {
     "name": "stdout",
     "output_type": "stream",
     "text": [
      "               Total, % points, 2021\n",
      "Category                       Total\n",
      "Hungary                         37.9\n",
      "Japan                           36.7\n",
      "Costa Rica                      36.5\n",
      "United Kingdom                  35.6\n",
      "Norway                          35.6\n",
      "Italy                           34.7\n",
      "United States                   34.1\n",
      "Spain                           33.1\n",
      "Austria                           33\n",
      "Greece                          32.7\n",
      "Israel                          32.6\n",
      "Latvia                          32.4\n",
      "Korea                           31.9\n",
      "Luxembourg                      31.3\n",
      "Netherlands                     30.8\n",
      "Lithuania                       29.4\n",
      "France                          29.3\n",
      "Canada                          27.6\n",
      "Estonia                         27.1\n",
      "Poland                          26.9\n",
      "Portugal                        26.8\n",
      "Türkiye                         26.3\n",
      "Slovak Rep.                     25.3\n",
      "Sweden                          22.2\n",
      "Belgium                         22.1\n",
      "Slovenia                        22.1\n",
      "Czechia                           22\n",
      "Finland                         21.5\n",
      "Ireland                         19.3\n"
     ]
    }
   ],
   "source": [
    "# Get file path \n",
    "# file_path1 = \"..Immigration\\poverty gap.csv\"\n",
    "file_path1 = \"C:\\\\Users\\\\linet\\\\OneDrive\\\\Desktop\\\\Immigration\\\\Immigration\\\\poverty gap.csv\"\n",
    "# Load the CSV file into a DataFrame\n",
    "try:\n",
    "    poverty = pd.read_csv(file_path1, header=1)  \n",
    "    print(poverty)  # Print the first few rows of the DataFrame\n",
    "except pd.errors.ParserError as e:\n",
    "    print(f\"ParserError: {e}\")"
   ]
  },
  {
   "cell_type": "code",
   "execution_count": 19,
   "id": "d84b7cd2",
   "metadata": {},
   "outputs": [
    {
     "name": "stdout",
     "output_type": "stream",
     "text": [
      "               Gini coefficient: 0 = complete equality; 1 = complete inequality, 2021\n",
      "Category        Gini coefficient: 0 = complete equality; 1 = c...                    \n",
      "Costa Rica                                                  0.487                    \n",
      "Türkiye                                                     0.433                    \n",
      "United States                                               0.375                    \n",
      "Lithuania                                                   0.366                    \n",
      "United Kingdom                                              0.354                    \n",
      "Israel                                                      0.348                    \n",
      "Latvia                                                      0.343                    \n",
      "Japan                                                       0.338                    \n",
      "Italy                                                        0.33                    \n",
      "Korea                                                       0.329                    \n",
      "Estonia                                                     0.321                    \n",
      "Spain                                                        0.32                    \n",
      "Portugal                                                    0.313                    \n",
      "Greece                                                      0.312                    \n",
      "France                                                      0.298                    \n",
      "Netherlands                                                 0.297                    \n",
      "Canada                                                      0.292                    \n",
      "Ireland                                                     0.291                    \n",
      "Sweden                                                      0.286                    \n",
      "Norway                                                      0.285                    \n",
      "Luxembourg                                                  0.284                    \n",
      "Austria                                                     0.281                    \n",
      "Hungary                                                     0.278                    \n",
      "Finland                                                     0.273                    \n",
      "Poland                                                      0.261                    \n",
      "Belgium                                                     0.256                    \n",
      "Czechia                                                     0.255                    \n",
      "Slovenia                                                    0.242                    \n",
      "Slovak Rep.                                                 0.217                    \n"
     ]
    }
   ],
   "source": [
    "# Get file path \n",
    "# file_path2 = \"..Immigration\\income inequality.csv\"\n",
    "file_path2 = \"C:\\\\Users\\\\linet\\\\OneDrive\\\\Desktop\\\\Immigration\\\\Immigration\\\\income inequality.csv\"\n",
    "# Load the CSV file into Dataframe\n",
    "try:\n",
    "    income = pd.read_csv(file_path2, header=1)  \n",
    "    print(income)  # Print the first few rows of the DataFrame\n",
    "except pd.errors.ParserError as e:\n",
    "    print(f\"ParserError: {e}\")"
   ]
  },
  {
   "cell_type": "code",
   "execution_count": 20,
   "id": "3d774837",
   "metadata": {},
   "outputs": [
    {
     "name": "stdout",
     "output_type": "stream",
     "text": [
      "               Total, % of foreign-born population, 2022\n",
      "Category                         Foreign-born employment\n",
      "Iceland                                             82.9\n",
      "New Zealand                                         82.7\n",
      "Czechia                                               81\n",
      "Hungary                                             80.6\n",
      "Slovak Rep.                                         78.3\n",
      "Israel                                              77.9\n",
      "Portugal                                            77.8\n",
      "Australia                                           77.2\n",
      "Ireland                                               77\n",
      "United Kingdom                                      75.8\n",
      "Chile                                               75.5\n",
      "Switzerland                                         75.3\n",
      "Canada                                              75.2\n",
      "Poland                                              75.1\n",
      "Estonia                                             74.7\n",
      "Luxembourg                                          74.2\n",
      "Norway                                              73.2\n",
      "United States                                       72.6\n",
      "Denmark                                             72.6\n",
      "Lithuania                                           70.6\n",
      "Finland                                             70.4\n",
      "Netherlands                                         70.3\n",
      "Austria                                             70.2\n",
      "Germany                                             69.8\n",
      "Slovenia                                            69.8\n",
      "Sweden                                              68.8\n",
      "Latvia                                              68.3\n",
      "Spain                                               63.5\n",
      "Italy                                               62.4\n",
      "France                                              61.6\n",
      "Belgium                                             61.5\n",
      "Greece                                              60.9\n",
      "Mexico                                              51.7\n"
     ]
    }
   ],
   "source": [
    "# Get file path \n",
    "# file_path3 = \"..Immigration\\foreign-born employment.csv\"\n",
    "file_path3 = \"C:\\\\Users\\\\linet\\\\OneDrive\\\\Desktop\\\\Immigration\\\\Immigration\\\\foreign-born employment.csv\"\n",
    "# Load the CSV file into Dataframe \n",
    "try:\n",
    "    foreign = pd.read_csv(file_path3, header=1)  \n",
    "    print(foreign)  # Print the first few rows of the DataFrame\n",
    "except pd.errors.ParserError as e:\n",
    "    print(f\"ParserError: {e}\")"
   ]
  },
  {
   "cell_type": "code",
   "execution_count": null,
   "id": "61bc5dad",
   "metadata": {},
   "outputs": [],
   "source": []
  },
  {
   "cell_type": "code",
   "execution_count": null,
   "id": "d22f8f62",
   "metadata": {},
   "outputs": [],
   "source": []
  }
 ],
 "metadata": {
  "kernelspec": {
   "display_name": "Python 3 (ipykernel)",
   "language": "python",
   "name": "python3"
  },
  "language_info": {
   "codemirror_mode": {
    "name": "ipython",
    "version": 3
   },
   "file_extension": ".py",
   "mimetype": "text/x-python",
   "name": "python",
   "nbconvert_exporter": "python",
   "pygments_lexer": "ipython3",
   "version": "3.11.7"
  }
 },
 "nbformat": 4,
 "nbformat_minor": 5
}
